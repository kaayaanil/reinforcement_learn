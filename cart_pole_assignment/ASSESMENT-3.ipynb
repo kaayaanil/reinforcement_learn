{
 "cells": [
  {
   "cell_type": "markdown",
   "id": "690377d5",
   "metadata": {},
   "source": [
    "### ANIL FERDI KAYA\n",
    "### 090180128\n",
    "### BVA529E ASSESMENT3"
   ]
  },
  {
   "cell_type": "code",
   "execution_count": 2,
   "id": "e7f3085a",
   "metadata": {},
   "outputs": [
    {
     "name": "stdout",
     "output_type": "stream",
     "text": [
      "Collecting gym==0.21.0\n",
      "  Using cached gym-0.21.0.tar.gz (1.5 MB)\n",
      "Requirement already satisfied: numpy>=1.18.0 in /arge/anaconda3/lib/python3.8/site-packages (from gym==0.21.0) (1.19.2)\n",
      "Requirement already satisfied: cloudpickle>=1.2.0 in /arge/anaconda3/lib/python3.8/site-packages (from gym==0.21.0) (1.6.0)\n",
      "Building wheels for collected packages: gym\n",
      "  Building wheel for gym (setup.py) ... \u001b[?25ldone\n",
      "\u001b[?25h  Created wheel for gym: filename=gym-0.21.0-py3-none-any.whl size=1616820 sha256=f56cc5d5f006553cc65fd64e9e98ab3f585d15cf8b720f209cc5ee08336f206e\n",
      "  Stored in directory: /home/anilk/.cache/pip/wheels/27/6d/b3/a3a6e10704795c9b9000f1ab2dc480dfe7bed42f5972806e73\n",
      "Successfully built gym\n",
      "Installing collected packages: gym\n",
      "Successfully installed gym-0.21.0\n",
      "Collecting pyglet\n",
      "  Using cached pyglet-1.5.26-py3-none-any.whl (1.1 MB)\n",
      "Installing collected packages: pyglet\n",
      "Successfully installed pyglet-1.5.26\n"
     ]
    }
   ],
   "source": [
    "!pip install gym==0.21.0\n",
    "!pip install pyglet"
   ]
  },
  {
   "cell_type": "code",
   "execution_count": 3,
   "id": "a7b7e3f6",
   "metadata": {},
   "outputs": [],
   "source": [
    "import numpy as np\n",
    "import matplotlib.pyplot as plt\n",
    "import pandas as pd\n",
    "from sklearn.kernel_approximation import RBFSampler\n",
    "import time\n",
    "import gym"
   ]
  },
  {
   "cell_type": "markdown",
   "id": "1c28318b",
   "metadata": {},
   "source": [
    "# SPECIFIATIONS"
   ]
  },
  {
   "cell_type": "code",
   "execution_count": 4,
   "id": "ad7856be",
   "metadata": {},
   "outputs": [
    {
     "data": {
      "text/plain": [
       "array([-0.02125209,  0.04118586,  0.03255917, -0.0498687 ], dtype=float32)"
      ]
     },
     "execution_count": 4,
     "metadata": {},
     "output_type": "execute_result"
    }
   ],
   "source": [
    "env = gym.make(\"CartPole-v0\")\n",
    "env.reset()"
   ]
  },
  {
   "cell_type": "code",
   "execution_count": 7,
   "id": "5fc2dc11",
   "metadata": {},
   "outputs": [],
   "source": [
    "def merge_state_action(s, a):\n",
    "    return np.concatenate((s, [a]))"
   ]
  },
  {
   "cell_type": "code",
   "execution_count": 8,
   "id": "78484963",
   "metadata": {},
   "outputs": [],
   "source": [
    "def generate_samples(n_episodes=10000):\n",
    "    samples = []\n",
    "    for i in range(n_episodes):\n",
    "        s = env.reset()\n",
    "        done=False\n",
    "        while not done:\n",
    "            a=env.action_space.sample() #random action\n",
    "            sa = merge_state_action(s, a)\n",
    "            samples.append(sa)\n",
    "            s, r, done, info = env.step(a)\n",
    "    return samples"
   ]
  },
  {
   "cell_type": "code",
   "execution_count": 9,
   "id": "421e2bc8",
   "metadata": {},
   "outputs": [],
   "source": [
    "samples = generate_samples()"
   ]
  },
  {
   "cell_type": "code",
   "execution_count": 10,
   "id": "513af433",
   "metadata": {},
   "outputs": [
    {
     "data": {
      "text/plain": [
       "RBFSampler()"
      ]
     },
     "execution_count": 10,
     "metadata": {},
     "output_type": "execute_result"
    }
   ],
   "source": [
    "rbf_sampler = RBFSampler(n_components=100)\n",
    "rbf_sampler.fit(samples)"
   ]
  },
  {
   "cell_type": "code",
   "execution_count": 13,
   "id": "c42c7ca0",
   "metadata": {},
   "outputs": [],
   "source": [
    "def predictQ(s,a,w):\n",
    "    sa = merge_state_action(s, a)\n",
    "    x = rbf_sampler.transform([sa])[0]\n",
    "    return np.dot(x,w)"
   ]
  },
  {
   "cell_type": "code",
   "execution_count": 14,
   "id": "11afb6e6",
   "metadata": {},
   "outputs": [],
   "source": [
    "def gradientQ(s,a,w):\n",
    "    sa = merge_state_action(s, a)\n",
    "    x = rbf_sampler.transform([sa])[0]\n",
    "    return x"
   ]
  },
  {
   "cell_type": "code",
   "execution_count": 15,
   "id": "2c0431b4",
   "metadata": {},
   "outputs": [],
   "source": [
    "def predictQ_all_actions(s,w):\n",
    "    values=[]\n",
    "    for a in range(env.action_space.n):\n",
    "        values.append(predictQ(s,a,w))\n",
    "    return values"
   ]
  },
  {
   "cell_type": "code",
   "execution_count": 20,
   "id": "a670c633",
   "metadata": {},
   "outputs": [],
   "source": [
    "def epsilon_greedy(s, w, eps=0.1):\n",
    "    values=[]\n",
    "    p = np.random.random()\n",
    "    if p < (1 - eps):\n",
    "        values = predictQ_all_actions(s,w)\n",
    "        return np.argmax(values)\n",
    "    else:\n",
    "        return env.action_space.sample()"
   ]
  },
  {
   "cell_type": "code",
   "execution_count": 47,
   "id": "dd72afe3",
   "metadata": {},
   "outputs": [],
   "source": [
    "def watch_agent(w,LAMBDA):\n",
    "    done = False\n",
    "    episode_reward = 0\n",
    "    s = env.reset()\n",
    "    while not done:\n",
    "        a = epsilon_greedy(s, w,eps=0)\n",
    "        s, r, done, info = env.step(a)\n",
    "        time.sleep(0.02)\n",
    "        env.render()\n",
    "        episode_reward += r\n",
    "    print('Watkins Q with lambda '+str(LAMBDA)+' reward: ',episode_reward)"
   ]
  },
  {
   "cell_type": "markdown",
   "id": "607fc40f",
   "metadata": {},
   "source": [
    "# Watkins Q Implemantation"
   ]
  },
  {
   "cell_type": "markdown",
   "id": "42dd5a63",
   "metadata": {},
   "source": [
    "<img src=\"https://i.stack.imgur.com/lhI2Y.png\"/>\n"
   ]
  },
  {
   "cell_type": "markdown",
   "id": "36044c7d",
   "metadata": {},
   "source": [
    "### When i create a algorithm i upper picture  and lecture 8 num 14 slide"
   ]
  },
  {
   "cell_type": "code",
   "execution_count": 50,
   "id": "2f285e79",
   "metadata": {},
   "outputs": [],
   "source": [
    "def watkinsQ(GAMMA = 0.9,ALPHA=0.1,LAMBDA=0,NUM_EPISODES = 1000):\n",
    "    w = np.zeros(100) \n",
    "\n",
    "    for it in range(NUM_EPISODES):\n",
    "        s=env.reset()\n",
    "        e=np.zeros(100)\n",
    "        \n",
    "        done=False\n",
    "        \n",
    "        while not done:\n",
    "            a = epsilon_greedy(s ,w,eps=0.1)\n",
    "            s2, r, done, info = env.step(a)\n",
    "            if done:\n",
    "                target = r\n",
    "            else:\n",
    "                values = predictQ_all_actions(s2,w)\n",
    "                sa = merge_state_action(s, a)\n",
    "                target = r + GAMMA * np.max(values)               \n",
    "            # update the weights\n",
    "            g = gradientQ(s,a,w)\n",
    "            err=target - predictQ(s,a,w)\n",
    "            e = GAMMA*LAMBDA*e + g\n",
    "            w += ALPHA * err * e\n",
    "            # update state\n",
    "            s = s2  \n",
    "    watch_agent(w,LAMBDA)\n",
    "    env.close()"
   ]
  },
  {
   "cell_type": "markdown",
   "id": "9b9dca90",
   "metadata": {},
   "source": [
    "# RUN"
   ]
  },
  {
   "cell_type": "code",
   "execution_count": 54,
   "id": "e1886332",
   "metadata": {},
   "outputs": [
    {
     "name": "stdout",
     "output_type": "stream",
     "text": [
      "Watkins Q with lambda 0 reward:  198.0\n",
      "Watkins Q with lambda 0.95 reward:  172.0\n",
      "Watkins Q with lambda 1 reward:  110.0\n"
     ]
    }
   ],
   "source": [
    "np.random.seed(14)\n",
    "watkinsQ(LAMBDA=0)\n",
    "watkinsQ(LAMBDA=0.95)\n",
    "watkinsQ(LAMBDA=1)"
   ]
  },
  {
   "cell_type": "markdown",
   "id": "25b772a7",
   "metadata": {},
   "source": []
  },
  {
   "cell_type": "code",
   "execution_count": null,
   "id": "c1ff13b2",
   "metadata": {},
   "outputs": [],
   "source": []
  }
 ],
 "metadata": {
  "kernelspec": {
   "display_name": "Python 3 (ipykernel)",
   "language": "python",
   "name": "python3"
  },
  "language_info": {
   "codemirror_mode": {
    "name": "ipython",
    "version": 3
   },
   "file_extension": ".py",
   "mimetype": "text/x-python",
   "name": "python",
   "nbconvert_exporter": "python",
   "pygments_lexer": "ipython3",
   "version": "3.9.7"
  }
 },
 "nbformat": 4,
 "nbformat_minor": 5
}
