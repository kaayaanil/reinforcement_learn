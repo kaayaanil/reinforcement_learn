{
 "cells": [
  {
   "cell_type": "code",
   "execution_count": 1,
   "id": "6532471d",
   "metadata": {
    "_cell_guid": "b1076dfc-b9ad-4769-8c92-a6c4dae69d19",
    "_uuid": "8f2839f25d086af736a60e9eeb907d3b93b6e0e5",
    "execution": {
     "iopub.execute_input": "2022-03-11T21:13:04.421325Z",
     "iopub.status.busy": "2022-03-11T21:13:04.420514Z",
     "iopub.status.idle": "2022-03-11T21:13:04.423406Z",
     "shell.execute_reply": "2022-03-11T21:13:04.424048Z",
     "shell.execute_reply.started": "2022-03-11T19:30:46.997172Z"
    },
    "papermill": {
     "duration": 0.032262,
     "end_time": "2022-03-11T21:13:04.424340",
     "exception": false,
     "start_time": "2022-03-11T21:13:04.392078",
     "status": "completed"
    },
    "tags": []
   },
   "outputs": [],
   "source": [
    "# This Python 3 environment comes with many helpful analytics libraries installed\n",
    "# It is defined by the kaggle/python Docker image: https://github.com/kaggle/docker-python\n",
    "# For example, here's several helpful packages to load\n",
    "\n",
    "import numpy as np # linear algebra\n",
    "import pandas as pd # data processing, CSV file I/O (e.g. pd.read_csv)\n",
    "import matplotlib.pyplot as plt\n",
    "# Input data files are available in the read-only \"../input/\" directory\n",
    "# For example, running this (by clicking run or pressing Shift+Enter) will list all files under the input directory\n",
    "\n",
    "import os\n",
    "for dirname, _, filenames in os.walk('/kaggle/input'):\n",
    "    for filename in filenames:\n",
    "        print(os.path.join(dirname, filename))\n",
    "\n",
    "# You can write up to 20GB to the current directory (/kaggle/working/) that gets preserved as output when you create a version using \"Save & Run All\" \n",
    "# You can also write temporary files to /kaggle/temp/, but they won't be saved outside of the current session"
   ]
  },
  {
   "cell_type": "code",
   "execution_count": 2,
   "id": "9bffabfc",
   "metadata": {
    "execution": {
     "iopub.execute_input": "2022-03-11T21:13:04.458339Z",
     "iopub.status.busy": "2022-03-11T21:13:04.457476Z",
     "iopub.status.idle": "2022-03-11T21:13:04.461245Z",
     "shell.execute_reply": "2022-03-11T21:13:04.461743Z",
     "shell.execute_reply.started": "2022-03-11T19:30:47.007215Z"
    },
    "papermill": {
     "duration": 0.020172,
     "end_time": "2022-03-11T21:13:04.461883",
     "exception": false,
     "start_time": "2022-03-11T21:13:04.441711",
     "status": "completed"
    },
    "tags": []
   },
   "outputs": [],
   "source": [
    "NUM_TRIAL=10000\n",
    "EPS=0.1\n",
    "BANDIT_PROBS=[0.2,0.4,0.6]"
   ]
  },
  {
   "cell_type": "code",
   "execution_count": 3,
   "id": "6e031e80",
   "metadata": {
    "execution": {
     "iopub.execute_input": "2022-03-11T21:13:04.489716Z",
     "iopub.status.busy": "2022-03-11T21:13:04.488956Z",
     "iopub.status.idle": "2022-03-11T21:13:04.493677Z",
     "shell.execute_reply": "2022-03-11T21:13:04.494084Z",
     "shell.execute_reply.started": "2022-03-11T19:30:47.030785Z"
    },
    "papermill": {
     "duration": 0.019578,
     "end_time": "2022-03-11T21:13:04.494218",
     "exception": false,
     "start_time": "2022-03-11T21:13:04.474640",
     "status": "completed"
    },
    "tags": []
   },
   "outputs": [],
   "source": [
    "class Bandit:\n",
    "    def __init__(self,p):\n",
    "        self.p = p\n",
    "        self.p_estimate=0\n",
    "        self.k=0\n",
    "    def pull(self):\n",
    "        return np.random.random()<self.p\n",
    "    def update(self,R):\n",
    "        self.k += 1\n",
    "        self.p_estimate = self.p_estimate + (1/self.k)*(R-self.p_estimate)\n"
   ]
  },
  {
   "cell_type": "code",
   "execution_count": 4,
   "id": "85da66d1",
   "metadata": {
    "execution": {
     "iopub.execute_input": "2022-03-11T21:13:04.521724Z",
     "iopub.status.busy": "2022-03-11T21:13:04.520839Z",
     "iopub.status.idle": "2022-03-11T21:13:04.524378Z",
     "shell.execute_reply": "2022-03-11T21:13:04.524773Z",
     "shell.execute_reply.started": "2022-03-11T19:30:47.046260Z"
    },
    "papermill": {
     "duration": 0.018572,
     "end_time": "2022-03-11T21:13:04.524887",
     "exception": false,
     "start_time": "2022-03-11T21:13:04.506315",
     "status": "completed"
    },
    "tags": []
   },
   "outputs": [],
   "source": [
    "bandits = [Bandit(p) for p in BANDIT_PROBS]"
   ]
  },
  {
   "cell_type": "code",
   "execution_count": 5,
   "id": "19e6ab10",
   "metadata": {
    "execution": {
     "iopub.execute_input": "2022-03-11T21:13:04.551131Z",
     "iopub.status.busy": "2022-03-11T21:13:04.550369Z",
     "iopub.status.idle": "2022-03-11T21:13:04.556956Z",
     "shell.execute_reply": "2022-03-11T21:13:04.557453Z",
     "shell.execute_reply.started": "2022-03-11T19:30:47.062208Z"
    },
    "papermill": {
     "duration": 0.021048,
     "end_time": "2022-03-11T21:13:04.557586",
     "exception": false,
     "start_time": "2022-03-11T21:13:04.536538",
     "status": "completed"
    },
    "tags": []
   },
   "outputs": [
    {
     "data": {
      "text/plain": [
       "0"
      ]
     },
     "execution_count": 5,
     "metadata": {},
     "output_type": "execute_result"
    }
   ],
   "source": [
    "bandits[2].p_estimate"
   ]
  },
  {
   "cell_type": "code",
   "execution_count": 6,
   "id": "fd54e328",
   "metadata": {
    "execution": {
     "iopub.execute_input": "2022-03-11T21:13:04.590342Z",
     "iopub.status.busy": "2022-03-11T21:13:04.584577Z",
     "iopub.status.idle": "2022-03-11T21:13:04.593712Z",
     "shell.execute_reply": "2022-03-11T21:13:04.594076Z",
     "shell.execute_reply.started": "2022-03-11T19:30:47.076119Z"
    },
    "papermill": {
     "duration": 0.024354,
     "end_time": "2022-03-11T21:13:04.594215",
     "exception": false,
     "start_time": "2022-03-11T21:13:04.569861",
     "status": "completed"
    },
    "tags": []
   },
   "outputs": [],
   "source": [
    "def greedy_epsilon(EPS):\n",
    "    rewards=np.zeros(NUM_TRIAL)\n",
    "    num_times_explored = 0\n",
    "    num_times_exploities=0\n",
    "    num_optimal=0\n",
    "    optimal_j = np.argmax([b.p for b in bandits])\n",
    "    print(\"optimal j:\",optimal_j)\n",
    "    for i in range(NUM_TRIAL):\n",
    "        if np.random.random()<EPS:\n",
    "            j = np.random.randint(len(bandits))\n",
    "            num_times_explored+=1\n",
    "        else:\n",
    "            num_times_exploities+=1\n",
    "            j = np.argmax([b.p_estimate for b in bandits])\n",
    "        if j==optimal_j:\n",
    "            num_optimal+=1\n",
    "            \n",
    "            \n",
    "        R = bandits[j].pull()\n",
    "        rewards[i] = R\n",
    "        bandits[j].update(R)\n",
    "    for b in bandits:\n",
    "        print(\"mean estimate:\",b.p_estimate)\n",
    "    \n",
    "    \n",
    "    print(\"total reward earbed: \",rewards.sum())\n",
    "    print(\"overall win rate:\", rewards.sum()/NUM_TRIAL)\n",
    "    print(\"num_times_explored:\", num_times_explored)\n",
    "    print(\"num_times_exploities:\", num_times_exploities)\n",
    "    print(\"num_selected_optimal_bandit:\", num_optimal)\n",
    "    \n",
    "    cumulative_rewards = np.cumsum(rewards)\n",
    "    win_rates = cumulative_rewards / (np.arange(NUM_TRIAL)+1)\n",
    "    plt.plot(win_rates)\n",
    "    plt.plot(np.ones(NUM_TRIAL)*np.max(BANDIT_PROBS))    \n",
    "    plt.xscale(\"log\")\n",
    "    plt.show()"
   ]
  },
  {
   "cell_type": "code",
   "execution_count": 7,
   "id": "7279899f",
   "metadata": {
    "execution": {
     "iopub.execute_input": "2022-03-11T21:13:04.621255Z",
     "iopub.status.busy": "2022-03-11T21:13:04.620477Z",
     "iopub.status.idle": "2022-03-11T21:13:04.625025Z",
     "shell.execute_reply": "2022-03-11T21:13:04.625437Z",
     "shell.execute_reply.started": "2022-03-11T19:30:47.094455Z"
    },
    "papermill": {
     "duration": 0.019172,
     "end_time": "2022-03-11T21:13:04.625560",
     "exception": false,
     "start_time": "2022-03-11T21:13:04.606388",
     "status": "completed"
    },
    "tags": []
   },
   "outputs": [
    {
     "name": "stdout",
     "output_type": "stream",
     "text": [
      "optimal j: 2\n"
     ]
    }
   ],
   "source": [
    "    optimal_j = np.argmax([b.p for b in bandits])\n",
    "    print(\"optimal j:\",optimal_j)"
   ]
  },
  {
   "cell_type": "code",
   "execution_count": 8,
   "id": "3954d69d",
   "metadata": {
    "execution": {
     "iopub.execute_input": "2022-03-11T21:13:04.653856Z",
     "iopub.status.busy": "2022-03-11T21:13:04.653017Z",
     "iopub.status.idle": "2022-03-11T21:13:05.471836Z",
     "shell.execute_reply": "2022-03-11T21:13:05.471291Z",
     "shell.execute_reply.started": "2022-03-11T19:33:22.043213Z"
    },
    "papermill": {
     "duration": 0.833702,
     "end_time": "2022-03-11T21:13:05.471968",
     "exception": false,
     "start_time": "2022-03-11T21:13:04.638266",
     "status": "completed"
    },
    "tags": []
   },
   "outputs": [
    {
     "name": "stdout",
     "output_type": "stream",
     "text": [
      "optimal j: 2\n",
      "mean estimate: 0.18023255813953498\n",
      "mean estimate: 0.4013157894736843\n",
      "mean estimate: 0.6004063301967503\n",
      "total reward earbed:  5799.0\n",
      "overall win rate: 0.5799\n",
      "num_times_explored: 956\n",
      "num_times_exploities: 9044\n",
      "num_selected_optimal_bandit: 9352\n"
     ]
    },
    {
     "data": {
      "image/png": "[encoded data removed]",
      "text/plain": [
       "<Figure size 432x288 with 1 Axes>"
      ]
     },
     "metadata": {
      "needs_background": "light"
     },
     "output_type": "display_data"
    }
   ],
   "source": [
    "greedy_epsilon(0.1)"
   ]
  },
  {
   "cell_type": "code",
   "execution_count": 9,
   "id": "ede052f1",
   "metadata": {
    "execution": {
     "iopub.execute_input": "2022-03-11T21:13:05.503449Z",
     "iopub.status.busy": "2022-03-11T21:13:05.502662Z",
     "iopub.status.idle": "2022-03-11T21:13:05.508122Z",
     "shell.execute_reply": "2022-03-11T21:13:05.507682Z",
     "shell.execute_reply.started": "2022-03-11T19:30:47.993751Z"
    },
    "papermill": {
     "duration": 0.021971,
     "end_time": "2022-03-11T21:13:05.508263",
     "exception": false,
     "start_time": "2022-03-11T21:13:05.486292",
     "status": "completed"
    },
    "tags": []
   },
   "outputs": [
    {
     "data": {
      "text/plain": [
       "2"
      ]
     },
     "execution_count": 9,
     "metadata": {},
     "output_type": "execute_result"
    }
   ],
   "source": [
    "np.random.randint(len(bandits))"
   ]
  },
  {
   "cell_type": "code",
   "execution_count": 10,
   "id": "53b051ae",
   "metadata": {
    "execution": {
     "iopub.execute_input": "2022-03-11T21:13:05.539203Z",
     "iopub.status.busy": "2022-03-11T21:13:05.538439Z",
     "iopub.status.idle": "2022-03-11T21:13:05.543045Z",
     "shell.execute_reply": "2022-03-11T21:13:05.543542Z",
     "shell.execute_reply.started": "2022-03-11T19:30:48.002154Z"
    },
    "papermill": {
     "duration": 0.020999,
     "end_time": "2022-03-11T21:13:05.543660",
     "exception": false,
     "start_time": "2022-03-11T21:13:05.522661",
     "status": "completed"
    },
    "tags": []
   },
   "outputs": [
    {
     "data": {
      "text/plain": [
       "1"
      ]
     },
     "execution_count": 10,
     "metadata": {},
     "output_type": "execute_result"
    }
   ],
   "source": [
    "np.random.randint(len(bandits))"
   ]
  },
  {
   "cell_type": "code",
   "execution_count": 11,
   "id": "2a5ca1c0",
   "metadata": {
    "execution": {
     "iopub.execute_input": "2022-03-11T21:13:05.576711Z",
     "iopub.status.busy": "2022-03-11T21:13:05.576003Z",
     "iopub.status.idle": "2022-03-11T21:13:05.578742Z",
     "shell.execute_reply": "2022-03-11T21:13:05.579164Z",
     "shell.execute_reply.started": "2022-03-11T19:30:48.020452Z"
    },
    "papermill": {
     "duration": 0.021597,
     "end_time": "2022-03-11T21:13:05.579309",
     "exception": false,
     "start_time": "2022-03-11T21:13:05.557712",
     "status": "completed"
    },
    "tags": []
   },
   "outputs": [
    {
     "data": {
      "text/plain": [
       "2"
      ]
     },
     "execution_count": 11,
     "metadata": {},
     "output_type": "execute_result"
    }
   ],
   "source": [
    "np.random.randint(len(bandits))"
   ]
  },
  {
   "cell_type": "code",
   "execution_count": 12,
   "id": "239c8571",
   "metadata": {
    "execution": {
     "iopub.execute_input": "2022-03-11T21:13:05.613774Z",
     "iopub.status.busy": "2022-03-11T21:13:05.613138Z",
     "iopub.status.idle": "2022-03-11T21:13:05.615767Z",
     "shell.execute_reply": "2022-03-11T21:13:05.616208Z",
     "shell.execute_reply.started": "2022-03-11T19:31:45.514077Z"
    },
    "papermill": {
     "duration": 0.02218,
     "end_time": "2022-03-11T21:13:05.616344",
     "exception": false,
     "start_time": "2022-03-11T21:13:05.594164",
     "status": "completed"
    },
    "tags": []
   },
   "outputs": [
    {
     "data": {
      "text/plain": [
       "array([    1,     2,     3, ...,  9998,  9999, 10000])"
      ]
     },
     "execution_count": 12,
     "metadata": {},
     "output_type": "execute_result"
    }
   ],
   "source": [
    "np.arange(NUM_TRIAL)+1"
   ]
  },
  {
   "cell_type": "code",
   "execution_count": null,
   "id": "ab23923e",
   "metadata": {
    "papermill": {
     "duration": 0.015544,
     "end_time": "2022-03-11T21:13:05.646938",
     "exception": false,
     "start_time": "2022-03-11T21:13:05.631394",
     "status": "completed"
    },
    "tags": []
   },
   "outputs": [],
   "source": []
  }
 ],
 "metadata": {
  "kernelspec": {
   "display_name": "Python 3",
   "language": "python",
   "name": "python3"
  },
  "language_info": {
   "codemirror_mode": {
    "name": "ipython",
    "version": 3
   },
   "file_extension": ".py",
   "mimetype": "text/x-python",
   "name": "python",
   "nbconvert_exporter": "python",
   "pygments_lexer": "ipython3",
   "version": "3.7.12"
  },
  "papermill": {
   "default_parameters": {},
   "duration": 10.064056,
   "end_time": "2022-03-11T21:13:06.171970",
   "environment_variables": {},
   "exception": null,
   "input_path": "__notebook__.ipynb",
   "output_path": "__notebook__.ipynb",
   "parameters": {},
   "start_time": "2022-03-11T21:12:56.107914",
   "version": "2.3.3"
  }
 },
 "nbformat": 4,
 "nbformat_minor": 5
}
